{
 "cells": [
  {
   "cell_type": "markdown",
   "metadata": {},
   "source": [
    "# KNOWING THE VEHICLE MARKET USING WEB SCRAPING\n",
    "\n",
    "![](https://www.edureka.co/blog/wp-content/uploads/2018/11/Untitled-1.jpg)\n",
    "<div style=\"text-align: right;\">\n",
    "    <a href=\"https://www.edureka.co/blog/web-scraping-with-python/\"> IMAGE SOURCE </a>\n",
    "</div>\n",
    "\n",
    "\n",
    "In this project I am going to extract information from a website and then analyze it using different Python libraries. In particular, I am going to extract information about Nissan Versa vehicles from the [mercadolibre](https://carros.mercadolibre.com.co/nissan/nissan-versa_Desde_0_NoIndex_True) website, however this Python code is designed for extracting information about any vehicle brand and reference. The purpose of this project is to getting familiar with the vehicular market, particularly in Colombia.This will be the process that we are going to follow:\n",
    "\n",
    "1. Download the page using [requests](https://docs.python-requests.org/en/master/)\n",
    "2. Extracting the information for the HTML page using [Beautiful Soup](https://www.crummy.com/software/BeautifulSoup/bs4/doc/)\n",
    "3. Putting all together and saving the extracted information into csv files\n",
    "4. Analyzing the extracted data and draw conclusions\n"
   ]
  },
  {
   "cell_type": "markdown",
   "metadata": {},
   "source": [
    "## Downloading web page using requests\n",
    "The first step of this project is to extract the HTML code of the web page using this Python library called request and save it in this Jupyter notebook."
   ]
  },
  {
   "cell_type": "code",
   "execution_count": 1,
   "metadata": {},
   "outputs": [],
   "source": [
    "# Install the library\n",
    "!pip install requests --upgrade --quiet\n",
    "# Import the library\n",
    "import requests\n",
    "# Using the URL of the page we are going to scrape\n",
    "web_url = 'https://carros.mercadolibre.com.co/nissan/nissan-versa_Desde_0_NoIndex_True'\n",
    "# We can download the web page by using the get function\n",
    "response = requests.get(web_url)\n",
    "# Checking if the requests of downloading was successful, if we get a value between 200 and 299 then we are ok.\n",
    "response_status = response.status_code\n",
    "if response_status != 200:\n",
    "    print('Status code:', response.status_code)\n",
    "    raise Exception('Failed to fetch web page ')\n",
    "# Saving the html file\n",
    "page_content = response.text\n",
    "with open ('mercado_libre.html', 'w', encoding=\"utf-8\") as file: \n",
    "               file.write(page_content)"
   ]
  },
  {
   "cell_type": "markdown",
   "metadata": {},
   "source": [
    "Now, as you can see. The HTML code of this page is stored in this Jupyter notebook.\n",
    "\n",
    "![title](https://imgur.com/pozXK2B.jpg)"
   ]
  },
  {
   "cell_type": "markdown",
   "metadata": {},
   "source": [
    "Now, if we open the file it will look something like this:\n",
    "\n",
    "\n",
    "![pic](https://imgur.com/Nf3hg76.jpg)"
   ]
  },
  {
   "cell_type": "markdown",
   "metadata": {},
   "source": [
    "## Extracting information using beautiful soup\n",
    "In this section we are going to extract the information we need using BeatifulSoup functions. The information we are going to extract for every car that is posted on this website is: car description, car price, car model, car year, car mileage, car location, car image and the url of the post."
   ]
  },
  {
   "cell_type": "code",
   "execution_count": 2,
   "metadata": {},
   "outputs": [],
   "source": [
    "# Install the library\n",
    "!pip install beautifulsoup4 --upgrade --quiet\n",
    "# Import the library\n",
    "from bs4 import BeautifulSoup\n",
    "# Open the html file we previously save\n",
    "with open('mercado_libre.html', 'r') as f:\n",
    "    html_source = f.read()\n",
    "# Getting the document with beatifulsoup\n",
    "doc = BeautifulSoup(html_source, 'html.parser')"
   ]
  },
  {
   "cell_type": "code",
   "execution_count": 3,
   "metadata": {},
   "outputs": [
    {
     "data": {
      "text/plain": [
       "bs4.BeautifulSoup"
      ]
     },
     "execution_count": 3,
     "metadata": {},
     "output_type": "execute_result"
    }
   ],
   "source": [
    "type(doc)"
   ]
  },
  {
   "cell_type": "markdown",
   "metadata": {},
   "source": [
    "As we can see from the image above the tag for every post is underlined.\n",
    "\n",
    "![image.png](https://imgur.com/OtQYKnJ.jpg)"
   ]
  },
  {
   "cell_type": "code",
   "execution_count": 4,
   "metadata": {},
   "outputs": [],
   "source": [
    "list_item_tags = doc.find_all('li', class_='ui-search-layout__item')"
   ]
  },
  {
   "cell_type": "code",
   "execution_count": 5,
   "metadata": {
    "scrolled": true
   },
   "outputs": [
    {
     "data": {
      "text/plain": [
       "48"
      ]
     },
     "execution_count": 5,
     "metadata": {},
     "output_type": "execute_result"
    }
   ],
   "source": [
    "len(list_item_tags)"
   ]
  },
  {
   "cell_type": "markdown",
   "metadata": {},
   "source": [
    "For every page there are a maximum of 48 post. So we are getting the correct tags. Now we are going to find all the characteristics that we mention before but for only one car and then we make a loop to get the rest."
   ]
  },
  {
   "cell_type": "code",
   "execution_count": 6,
   "metadata": {},
   "outputs": [],
   "source": [
    "item_tag = list_item_tags[0]"
   ]
  },
  {
   "cell_type": "markdown",
   "metadata": {},
   "source": [
    "Car price tag\n",
    "![image.png](https://imgur.com/VbJFUMd.jpg)\n",
    "\n",
    "Car year and mileage tags\n",
    "![image-2.png](https://imgur.com/uAuhpLH.jpg)\n",
    "\n",
    "Car name and url tags\n",
    "![image-3.png](https://imgur.com/eZVawqw.jpg)\n",
    "\n",
    "Car location\n",
    "![image-4.png](https://imgur.com/VGnDlTX.jpg)\n",
    "Car image \n",
    "![image-5.png](https://imgur.com/H1MMKJF.jpg)"
   ]
  },
  {
   "cell_type": "code",
   "execution_count": 7,
   "metadata": {},
   "outputs": [],
   "source": [
    "def car_description(item_tag):\n",
    "    #Find car name\n",
    "    name_and_url = item_tag.find('div', role='group')\n",
    "    car_name = name_and_url.find('a')['title'].strip()\n",
    "    #Find car prices\n",
    "    cars_prices_all_text = item_tag.find('div', class_='ui-search-price__second-line shops__price-second-line').text\n",
    "    car_prices = get_the_price(cars_prices_all_text)\n",
    "    #Find car year\n",
    "    year_and_km = item_tag.find('div', class_='ui-search-item__group ui-search-item__group--attributes shops__items-group')\n",
    "    car_year = year_and_km.find_all('li')[0].text\n",
    "    #Find car mileage\n",
    "    car_mileage = year_and_km.find_all('li')[1].text\n",
    "    #Find car location\n",
    "    cars_location_text = item_tag.find('div', class_='ui-search-item__group ui-search-item__group--location shops__items-group')\n",
    "    car_location = cars_location_text.text\n",
    "    #Find car image\n",
    "    car_images = item_tag.find('img', fetchpriority='high')['data-src']\n",
    "    #Find car url\n",
    "    car_url = name_and_url.find('a')['href']\n",
    "    return {\n",
    "        'car_name': car_name,\n",
    "        'car_price': car_prices,        \n",
    "        'car_year': car_year,\n",
    "        'car_mileage': car_mileage,\n",
    "        'cars_location': car_location,\n",
    "        'car_image': car_images,\n",
    "        'car_url': car_url\n",
    "    }\n",
    "\n",
    "def get_the_price(price_text):\n",
    "    \"\"\"This function modifies the text of the tag and only select what is after the '$' symbol\"\"\"\n",
    "    number_position = price_text.find('$')\n",
    "    price = price_text[number_position:]\n",
    "    return price"
   ]
  },
  {
   "cell_type": "code",
   "execution_count": 8,
   "metadata": {},
   "outputs": [
    {
     "data": {
      "text/plain": [
       "{'car_name': 'Nissan Versa 1.6 Advance',\n",
       " 'car_price': '$38.500.000',\n",
       " 'car_year': '2014',\n",
       " 'car_mileage': '50.600 Km',\n",
       " 'cars_location': 'Suba - Bogotá D.C.',\n",
       " 'car_image': 'https://http2.mlstatic.com/D_NQ_NP_811731-MCO71194209301_082023-W.jpg',\n",
       " 'car_url': 'https://carro.mercadolibre.com.co/MCO-1328390689-nissan-versa-_JM#position=1&search_layout=grid&type=item&tracking_id=d00dc9af-2a71-4da7-883e-889c40a8ff80'}"
      ]
     },
     "execution_count": 8,
     "metadata": {},
     "output_type": "execute_result"
    }
   ],
   "source": [
    "car_description(item_tag)"
   ]
  },
  {
   "cell_type": "markdown",
   "metadata": {},
   "source": [
    "Now we make a list of dictionaries with a for loop to get all the posts on the first page. "
   ]
  },
  {
   "cell_type": "code",
   "execution_count": 9,
   "metadata": {},
   "outputs": [],
   "source": [
    "def get_cars(doc):\n",
    "    list_item_tags = doc.find_all('li', class_='ui-search-layout__item')\n",
    "    all_cars = [car_description(tag) for tag in list_item_tags]\n",
    "    return all_cars"
   ]
  },
  {
   "cell_type": "code",
   "execution_count": 10,
   "metadata": {},
   "outputs": [],
   "source": [
    "car_list = get_cars(doc)"
   ]
  },
  {
   "cell_type": "code",
   "execution_count": 11,
   "metadata": {
    "scrolled": true
   },
   "outputs": [
    {
     "data": {
      "text/plain": [
       "[{'car_name': 'Nissan Versa 1.6 Advance',\n",
       "  'car_price': '$38.500.000',\n",
       "  'car_year': '2014',\n",
       "  'car_mileage': '50.600 Km',\n",
       "  'cars_location': 'Suba - Bogotá D.C.',\n",
       "  'car_image': 'https://http2.mlstatic.com/D_NQ_NP_811731-MCO71194209301_082023-W.jpg',\n",
       "  'car_url': 'https://carro.mercadolibre.com.co/MCO-1328390689-nissan-versa-_JM#position=1&search_layout=grid&type=item&tracking_id=d00dc9af-2a71-4da7-883e-889c40a8ff80'},\n",
       " {'car_name': 'Nissan Versa Advance',\n",
       "  'car_price': '$35.500.000',\n",
       "  'car_year': '2013',\n",
       "  'car_mileage': '68.382 Km',\n",
       "  'cars_location': 'Ciudad Bolívar - Bogotá D.C.',\n",
       "  'car_image': 'https://http2.mlstatic.com/D_NQ_NP_632620-MCO71125535121_082023-W.jpg',\n",
       "  'car_url': 'https://carro.mercadolibre.com.co/MCO-1790852544-nissan-versa-advance-2013-_JM#position=2&search_layout=grid&type=item&tracking_id=d00dc9af-2a71-4da7-883e-889c40a8ff80'},\n",
       " {'car_name': 'Nissan Versa 1.6 Advance',\n",
       "  'car_price': '$50.000.000',\n",
       "  'car_year': '2018',\n",
       "  'car_mileage': '54.800 Km',\n",
       "  'cars_location': 'Fontibón - Bogotá D.C.',\n",
       "  'car_image': 'https://http2.mlstatic.com/D_NQ_NP_811068-MCO71066864434_082023-W.jpg',\n",
       "  'car_url': 'https://carro.mercadolibre.com.co/MCO-1326674555-nissan-versa-advance-16-_JM#position=3&search_layout=grid&type=item&tracking_id=d00dc9af-2a71-4da7-883e-889c40a8ff80'}]"
      ]
     },
     "execution_count": 11,
     "metadata": {},
     "output_type": "execute_result"
    }
   ],
   "source": [
    "car_list[:3]"
   ]
  },
  {
   "cell_type": "code",
   "execution_count": 12,
   "metadata": {},
   "outputs": [
    {
     "data": {
      "text/plain": [
       "48"
      ]
     },
     "execution_count": 12,
     "metadata": {},
     "output_type": "execute_result"
    }
   ],
   "source": [
    "len(car_list)"
   ]
  },
  {
   "cell_type": "markdown",
   "metadata": {},
   "source": [
    "## Putting all together\n",
    "Now, we are going to put 'car_description' function and the 'get_cars' function together and then create a new function that does all the process of getting the lists of posts but for every page of the website and finally, we create a csv file to save all the posts for every page."
   ]
  },
  {
   "cell_type": "code",
   "execution_count": 13,
   "metadata": {},
   "outputs": [],
   "source": [
    "import requests\n",
    "from bs4 import BeautifulSoup\n",
    "\n",
    "def scrape_all_pages(number_of_pages, car_reference, path=None):\n",
    "    for i in range(1,number_of_pages): \n",
    "        position = car_reference.find('-')\n",
    "        car_brand = car_reference[:position]\n",
    "        path = str(car_reference[position:][1:])+'_car_list' + str(i) +'.csv'\n",
    "        web_url = 'https://carros.mercadolibre.com.co/'+str(car_brand)+'/'+str(car_reference)+'_Desde_'+str(1+48*(i-1))+'_NoIndex_True'\n",
    "        response = requests.get(web_url)\n",
    "        if response.status_code != 200:\n",
    "            print('Status code:', response.status_code)\n",
    "            raise Exception('Failed to fetch web page ')\n",
    "        doc = BeautifulSoup(response.text)\n",
    "        all_listed_cars = get_cars(doc)\n",
    "        write_csv(all_listed_cars, path)\n",
    "        print('Top repositories for cars written to file \"{}\"'.format(path))\n",
    "\n",
    "\n",
    "def get_cars(doc):\n",
    "    list_item_tags = doc.find_all('li', class_='ui-search-layout__item')\n",
    "    all_cars = [car_description(tag) for tag in list_item_tags]\n",
    "    return all_cars\n",
    "\n",
    "def car_description(item_tag):\n",
    "    #Find car name\n",
    "    name_and_url = item_tag.find('div', role='group')\n",
    "    car_name = name_and_url.find('a')['title'].strip()\n",
    "    #Find car prices\n",
    "    cars_prices_all_text = item_tag.find('div', class_='ui-search-price__second-line shops__price-second-line').text\n",
    "    car_prices = get_the_price(cars_prices_all_text)\n",
    "    #Find car year\n",
    "    year_and_km = item_tag.find('div', class_='ui-search-item__group ui-search-item__group--attributes shops__items-group')\n",
    "    car_year = year_and_km.find_all('li')[0].text\n",
    "    #Find car mileage\n",
    "    car_mileage = year_and_km.find_all('li')[1].text\n",
    "    #Find car location\n",
    "    cars_location_text = item_tag.find('div', class_='ui-search-item__group ui-search-item__group--location shops__items-group')\n",
    "    car_location = cars_location_text.text\n",
    "    #Find car image\n",
    "    car_images = item_tag.find('img', fetchpriority='high')['data-src']\n",
    "    #Find car url\n",
    "    car_url = name_and_url.find('a')['href']\n",
    "    return {\n",
    "        'car_name': car_name,\n",
    "        'car_price': car_prices,        \n",
    "        'car_year': car_year,\n",
    "        'car_mileage': car_mileage,\n",
    "        'cars_location': car_location,\n",
    "        'car_image': car_images,\n",
    "        'car_url': car_url\n",
    "    }\n",
    "\n",
    "def get_the_price(price_text):\n",
    "    \"\"\"This function modifies the text of the tag and only select what is after the '$' symbol\"\"\"\n",
    "    number_position = price_text.find('$')\n",
    "    price = price_text[number_position:]\n",
    "    return price\n",
    "\n",
    "\n",
    "def write_csv(items, path):\n",
    "    \"\"\"This is the fuction that converts the lists into csv files\"\"\"\n",
    "    with open(path, 'w') as f:\n",
    "        if len(items) == 0:\n",
    "            return\n",
    "        headers = list(items[0].keys())\n",
    "        f.write(','.join(headers) + '\\n')\n",
    "        for item in items:\n",
    "            values = []\n",
    "            for header in headers:\n",
    "                values.append(str(item.get(header, \"\")))\n",
    "            f.write(','.join(values) + \"\\n\")"
   ]
  },
  {
   "cell_type": "code",
   "execution_count": 14,
   "metadata": {},
   "outputs": [
    {
     "name": "stdout",
     "output_type": "stream",
     "text": [
      "Top repositories for cars written to file \"versa_car_list1.csv\"\n",
      "Top repositories for cars written to file \"versa_car_list2.csv\"\n",
      "Top repositories for cars written to file \"versa_car_list3.csv\"\n",
      "Top repositories for cars written to file \"versa_car_list4.csv\"\n",
      "Top repositories for cars written to file \"versa_car_list5.csv\"\n",
      "Top repositories for cars written to file \"versa_car_list6.csv\"\n",
      "Top repositories for cars written to file \"versa_car_list7.csv\"\n",
      "Top repositories for cars written to file \"versa_car_list8.csv\"\n",
      "Top repositories for cars written to file \"versa_car_list9.csv\"\n"
     ]
    }
   ],
   "source": [
    "scrape_all_pages(10, 'nissan-versa')"
   ]
  },
  {
   "cell_type": "markdown",
   "metadata": {},
   "source": [
    "After we get all these CSVs it is convenient to save it all on a folder. We can do that with this function:"
   ]
  },
  {
   "cell_type": "code",
   "execution_count": 15,
   "metadata": {
    "scrolled": true
   },
   "outputs": [],
   "source": [
    "import os\n",
    "import shutil\n",
    "def store_in_folder(number_of_files, name_of_the_directory):\n",
    "\n",
    "    # Create the directory\n",
    "    output_directory = name_of_the_directory\n",
    "    os.makedirs(output_directory, exist_ok=True)\n",
    "\n",
    "    # List of existing CSV files\n",
    "    csv_files = []\n",
    "    for i in range(1, number_of_files):\n",
    "        files = 'versa_car_list'+str(i)+'.csv'\n",
    "        csv_files.append(files)\n",
    "\n",
    "    # Move each CSV file to the 'car_list' directory\n",
    "    for csv_file in csv_files:\n",
    "        src_path = csv_file\n",
    "        dst_path = os.path.join(output_directory, csv_file)\n",
    "\n",
    "        if not os.path.exists(dst_path):\n",
    "            shutil.move(src_path, dst_path)\n",
    "            print(f\"Moved '{csv_file}' to 'car_list' directory.\")\n",
    "        else:\n",
    "            print(f\"'{csv_file}' already exists in 'car_list' directory.\")"
   ]
  },
  {
   "cell_type": "code",
   "execution_count": 16,
   "metadata": {
    "scrolled": true
   },
   "outputs": [
    {
     "name": "stdout",
     "output_type": "stream",
     "text": [
      "Moved 'versa_car_list1.csv' to 'car_list' directory.\n",
      "Moved 'versa_car_list2.csv' to 'car_list' directory.\n",
      "Moved 'versa_car_list3.csv' to 'car_list' directory.\n",
      "Moved 'versa_car_list4.csv' to 'car_list' directory.\n",
      "Moved 'versa_car_list5.csv' to 'car_list' directory.\n",
      "Moved 'versa_car_list6.csv' to 'car_list' directory.\n",
      "Moved 'versa_car_list7.csv' to 'car_list' directory.\n",
      "Moved 'versa_car_list8.csv' to 'car_list' directory.\n",
      "Moved 'versa_car_list9.csv' to 'car_list' directory.\n"
     ]
    }
   ],
   "source": [
    "store_in_folder(10,'nissan_versa_directory')"
   ]
  },
  {
   "cell_type": "markdown",
   "metadata": {},
   "source": [
    "## Analyzing extracted data and draw conclusions\n",
    "Finally, we are going to convert all the CSVs files into a pandas dataframe and then we are going to analyze and clean the data, get insights and finally draw conclusions."
   ]
  },
  {
   "cell_type": "code",
   "execution_count": 17,
   "metadata": {
    "scrolled": true
   },
   "outputs": [
    {
     "name": "stderr",
     "output_type": "stream",
     "text": [
      "/opt/conda/lib/python3.9/site-packages/IPython/core/interactiveshell.py:3444: FutureWarning: The error_bad_lines argument has been deprecated and will be removed in a future version.\n",
      "\n",
      "\n",
      "  exec(code_obj, self.user_global_ns, self.user_ns)\n",
      "b'Skipping line 45: expected 7 fields, saw 8\\n'\n",
      "b'Skipping line 31: expected 7 fields, saw 8\\n'\n",
      "b'Skipping line 14: expected 7 fields, saw 8\\n'\n"
     ]
    }
   ],
   "source": [
    "# We import pandas library to analyze tabular data\n",
    "import pandas as pd\n",
    "\n",
    "# We create a lists of pandas dataframe and then we concatenate all of them in only one dataframe\n",
    "csv_directory = './nissan_versa_directory/'\n",
    "csv_files = [file for file in os.listdir(csv_directory) if file.endswith('.csv')]\n",
    "dataframes = []\n",
    "for csv_file in csv_files:\n",
    "    csv_path = os.path.join(csv_directory, csv_file)\n",
    "    df = pd.read_csv(csv_path, error_bad_lines = False)\n",
    "    dataframes.append(df)\n",
    "\n",
    "nissan_versa_df = pd.concat(dataframes).reset_index(drop=True)"
   ]
  },
  {
   "cell_type": "code",
   "execution_count": 18,
   "metadata": {
    "scrolled": true
   },
   "outputs": [
    {
     "data": {
      "text/html": [
       "<div>\n",
       "<style scoped>\n",
       "    .dataframe tbody tr th:only-of-type {\n",
       "        vertical-align: middle;\n",
       "    }\n",
       "\n",
       "    .dataframe tbody tr th {\n",
       "        vertical-align: top;\n",
       "    }\n",
       "\n",
       "    .dataframe thead th {\n",
       "        text-align: right;\n",
       "    }\n",
       "</style>\n",
       "<table border=\"1\" class=\"dataframe\">\n",
       "  <thead>\n",
       "    <tr style=\"text-align: right;\">\n",
       "      <th></th>\n",
       "      <th>car_name</th>\n",
       "      <th>car_price</th>\n",
       "      <th>car_year</th>\n",
       "      <th>car_mileage</th>\n",
       "      <th>cars_location</th>\n",
       "      <th>car_image</th>\n",
       "      <th>car_url</th>\n",
       "    </tr>\n",
       "  </thead>\n",
       "  <tbody>\n",
       "    <tr>\n",
       "      <th>0</th>\n",
       "      <td>Nissan Versa 1.6 Advance</td>\n",
       "      <td>$38.500.000</td>\n",
       "      <td>2014</td>\n",
       "      <td>50.600 Km</td>\n",
       "      <td>Suba - Bogotá D.C.</td>\n",
       "      <td>https://http2.mlstatic.com/D_NQ_NP_811731-MCO7...</td>\n",
       "      <td>https://carro.mercadolibre.com.co/MCO-13283906...</td>\n",
       "    </tr>\n",
       "    <tr>\n",
       "      <th>1</th>\n",
       "      <td>Nissan Versa Advance</td>\n",
       "      <td>$35.500.000</td>\n",
       "      <td>2013</td>\n",
       "      <td>68.382 Km</td>\n",
       "      <td>Ciudad Bolívar - Bogotá D.C.</td>\n",
       "      <td>https://http2.mlstatic.com/D_NQ_NP_632620-MCO7...</td>\n",
       "      <td>https://carro.mercadolibre.com.co/MCO-17908525...</td>\n",
       "    </tr>\n",
       "    <tr>\n",
       "      <th>2</th>\n",
       "      <td>Nissan Versa 1.6 Advance</td>\n",
       "      <td>$50.000.000</td>\n",
       "      <td>2018</td>\n",
       "      <td>54.800 Km</td>\n",
       "      <td>Fontibón - Bogotá D.C.</td>\n",
       "      <td>https://http2.mlstatic.com/D_NQ_NP_811068-MCO7...</td>\n",
       "      <td>https://carro.mercadolibre.com.co/MCO-13266745...</td>\n",
       "    </tr>\n",
       "    <tr>\n",
       "      <th>3</th>\n",
       "      <td>Nissan Versa 1.6 Drive</td>\n",
       "      <td>$52.000.000</td>\n",
       "      <td>2019</td>\n",
       "      <td>46.000 Km</td>\n",
       "      <td>Suba - Bogotá D.C.</td>\n",
       "      <td>https://http2.mlstatic.com/D_NQ_NP_723510-MCO7...</td>\n",
       "      <td>https://carro.mercadolibre.com.co/MCO-13256340...</td>\n",
       "    </tr>\n",
       "    <tr>\n",
       "      <th>4</th>\n",
       "      <td>Nissan Versa 1.6 Exclusive</td>\n",
       "      <td>$86.000.000</td>\n",
       "      <td>2022</td>\n",
       "      <td>5.868 Km</td>\n",
       "      <td>Barrios Unidos - Bogotá D.C.</td>\n",
       "      <td>https://http2.mlstatic.com/D_NQ_NP_938734-MCO7...</td>\n",
       "      <td>https://carro.mercadolibre.com.co/MCO-13252463...</td>\n",
       "    </tr>\n",
       "    <tr>\n",
       "      <th>...</th>\n",
       "      <td>...</td>\n",
       "      <td>...</td>\n",
       "      <td>...</td>\n",
       "      <td>...</td>\n",
       "      <td>...</td>\n",
       "      <td>...</td>\n",
       "      <td>...</td>\n",
       "    </tr>\n",
       "    <tr>\n",
       "      <th>424</th>\n",
       "      <td>Nissan Versa 1.6 Sense</td>\n",
       "      <td>$40.000.000</td>\n",
       "      <td>2017</td>\n",
       "      <td>67.000 Km</td>\n",
       "      <td>Barranquilla - Atlántico</td>\n",
       "      <td>https://http2.mlstatic.com/D_NQ_NP_841964-MCO7...</td>\n",
       "      <td>https://carro.mercadolibre.com.co/MCO-17381616...</td>\n",
       "    </tr>\n",
       "    <tr>\n",
       "      <th>425</th>\n",
       "      <td>Nissan Versa Sense</td>\n",
       "      <td>$42.000.000</td>\n",
       "      <td>2018</td>\n",
       "      <td>60.000 Km</td>\n",
       "      <td>Martires - Bogotá D.C.</td>\n",
       "      <td>https://http2.mlstatic.com/D_NQ_NP_722342-MCO7...</td>\n",
       "      <td>https://carro.mercadolibre.com.co/MCO-17825317...</td>\n",
       "    </tr>\n",
       "    <tr>\n",
       "      <th>426</th>\n",
       "      <td>Nissan Versa Versa Exclusive</td>\n",
       "      <td>$78.000.000</td>\n",
       "      <td>2020</td>\n",
       "      <td>16.500 Km</td>\n",
       "      <td>Cali - Valle Del Cauca</td>\n",
       "      <td>https://http2.mlstatic.com/D_NQ_NP_745082-MCO7...</td>\n",
       "      <td>https://carro.mercadolibre.com.co/MCO-13207916...</td>\n",
       "    </tr>\n",
       "    <tr>\n",
       "      <th>427</th>\n",
       "      <td>Nissan Versa 1.6 Advance</td>\n",
       "      <td>$35.000.000</td>\n",
       "      <td>2013</td>\n",
       "      <td>77.200 Km</td>\n",
       "      <td>Kennedy - Bogotá D.C.</td>\n",
       "      <td>https://http2.mlstatic.com/D_NQ_NP_608429-MCO6...</td>\n",
       "      <td>https://carro.mercadolibre.com.co/MCO-13189500...</td>\n",
       "    </tr>\n",
       "    <tr>\n",
       "      <th>428</th>\n",
       "      <td>Nissan Versa 1.6 Sense</td>\n",
       "      <td>$58.000.000</td>\n",
       "      <td>2019</td>\n",
       "      <td>35.308 Km</td>\n",
       "      <td>Medellín - Antioquia</td>\n",
       "      <td>https://http2.mlstatic.com/D_NQ_NP_823895-MCO6...</td>\n",
       "      <td>https://carro.mercadolibre.com.co/MCO-17728191...</td>\n",
       "    </tr>\n",
       "  </tbody>\n",
       "</table>\n",
       "<p>429 rows × 7 columns</p>\n",
       "</div>"
      ],
      "text/plain": [
       "                         car_name    car_price  car_year car_mileage  \\\n",
       "0        Nissan Versa 1.6 Advance  $38.500.000      2014   50.600 Km   \n",
       "1            Nissan Versa Advance  $35.500.000      2013   68.382 Km   \n",
       "2        Nissan Versa 1.6 Advance  $50.000.000      2018   54.800 Km   \n",
       "3          Nissan Versa 1.6 Drive  $52.000.000      2019   46.000 Km   \n",
       "4      Nissan Versa 1.6 Exclusive  $86.000.000      2022    5.868 Km   \n",
       "..                            ...          ...       ...         ...   \n",
       "424        Nissan Versa 1.6 Sense  $40.000.000      2017   67.000 Km   \n",
       "425            Nissan Versa Sense  $42.000.000      2018   60.000 Km   \n",
       "426  Nissan Versa Versa Exclusive  $78.000.000      2020   16.500 Km   \n",
       "427      Nissan Versa 1.6 Advance  $35.000.000      2013   77.200 Km   \n",
       "428        Nissan Versa 1.6 Sense  $58.000.000      2019   35.308 Km   \n",
       "\n",
       "                    cars_location  \\\n",
       "0              Suba - Bogotá D.C.   \n",
       "1    Ciudad Bolívar - Bogotá D.C.   \n",
       "2          Fontibón - Bogotá D.C.   \n",
       "3              Suba - Bogotá D.C.   \n",
       "4    Barrios Unidos - Bogotá D.C.   \n",
       "..                            ...   \n",
       "424      Barranquilla - Atlántico   \n",
       "425        Martires - Bogotá D.C.   \n",
       "426        Cali - Valle Del Cauca   \n",
       "427         Kennedy - Bogotá D.C.   \n",
       "428          Medellín - Antioquia   \n",
       "\n",
       "                                             car_image  \\\n",
       "0    https://http2.mlstatic.com/D_NQ_NP_811731-MCO7...   \n",
       "1    https://http2.mlstatic.com/D_NQ_NP_632620-MCO7...   \n",
       "2    https://http2.mlstatic.com/D_NQ_NP_811068-MCO7...   \n",
       "3    https://http2.mlstatic.com/D_NQ_NP_723510-MCO7...   \n",
       "4    https://http2.mlstatic.com/D_NQ_NP_938734-MCO7...   \n",
       "..                                                 ...   \n",
       "424  https://http2.mlstatic.com/D_NQ_NP_841964-MCO7...   \n",
       "425  https://http2.mlstatic.com/D_NQ_NP_722342-MCO7...   \n",
       "426  https://http2.mlstatic.com/D_NQ_NP_745082-MCO7...   \n",
       "427  https://http2.mlstatic.com/D_NQ_NP_608429-MCO6...   \n",
       "428  https://http2.mlstatic.com/D_NQ_NP_823895-MCO6...   \n",
       "\n",
       "                                               car_url  \n",
       "0    https://carro.mercadolibre.com.co/MCO-13283906...  \n",
       "1    https://carro.mercadolibre.com.co/MCO-17908525...  \n",
       "2    https://carro.mercadolibre.com.co/MCO-13266745...  \n",
       "3    https://carro.mercadolibre.com.co/MCO-13256340...  \n",
       "4    https://carro.mercadolibre.com.co/MCO-13252463...  \n",
       "..                                                 ...  \n",
       "424  https://carro.mercadolibre.com.co/MCO-17381616...  \n",
       "425  https://carro.mercadolibre.com.co/MCO-17825317...  \n",
       "426  https://carro.mercadolibre.com.co/MCO-13207916...  \n",
       "427  https://carro.mercadolibre.com.co/MCO-13189500...  \n",
       "428  https://carro.mercadolibre.com.co/MCO-17728191...  \n",
       "\n",
       "[429 rows x 7 columns]"
      ]
     },
     "execution_count": 18,
     "metadata": {},
     "output_type": "execute_result"
    }
   ],
   "source": [
    "# This is our concatenated dataframe\n",
    "nissan_versa_df"
   ]
  },
  {
   "cell_type": "markdown",
   "metadata": {},
   "source": [
    "### Data cleaning\n",
    "Before analyzing the data we are going to perform data cleaning. First, let's check some basic info about our data."
   ]
  },
  {
   "cell_type": "code",
   "execution_count": 19,
   "metadata": {
    "scrolled": false
   },
   "outputs": [
    {
     "name": "stdout",
     "output_type": "stream",
     "text": [
      "<class 'pandas.core.frame.DataFrame'>\n",
      "RangeIndex: 429 entries, 0 to 428\n",
      "Data columns (total 7 columns):\n",
      " #   Column         Non-Null Count  Dtype \n",
      "---  ------         --------------  ----- \n",
      " 0   car_name       429 non-null    object\n",
      " 1   car_price      429 non-null    object\n",
      " 2   car_year       429 non-null    int64 \n",
      " 3   car_mileage    429 non-null    object\n",
      " 4   cars_location  429 non-null    object\n",
      " 5   car_image      429 non-null    object\n",
      " 6   car_url        429 non-null    object\n",
      "dtypes: int64(1), object(6)\n",
      "memory usage: 23.6+ KB\n"
     ]
    }
   ],
   "source": [
    "nissan_versa_df.info()"
   ]
  },
  {
   "cell_type": "markdown",
   "metadata": {},
   "source": [
    "When we check the datatype(Dtype) of some variables we found that only 'car_year' column is numeric so we need to change that. Before changing the data type first let's check if we didn't get duplicated rows. We can do that with the 'car_url' column If we get 429 (the total number of rows) unique values then we do not have repeated columns"
   ]
  },
  {
   "cell_type": "code",
   "execution_count": 20,
   "metadata": {},
   "outputs": [
    {
     "data": {
      "text/plain": [
       "429"
      ]
     },
     "execution_count": 20,
     "metadata": {},
     "output_type": "execute_result"
    }
   ],
   "source": [
    "nissan_versa_df['car_url'].nunique()"
   ]
  },
  {
   "cell_type": "markdown",
   "metadata": {},
   "source": [
    "Now we are going to modify the 'car_price' and 'car_mileage' columns and make them numeric. For doing that, we need to get rid of all non numeric symbols line '.' and '$'."
   ]
  },
  {
   "cell_type": "code",
   "execution_count": 21,
   "metadata": {},
   "outputs": [],
   "source": [
    "# Replacing '$' sign to blank space for the 'car_price' column\n",
    "nissan_versa_df['car_price'] = nissan_versa_df['car_price'].str.replace(r'[$,]', '', regex=True)\n",
    "# Replacing '.' to blank space for the 'car_price' column\n",
    "nissan_versa_df['car_price'] = nissan_versa_df['car_price'].str.replace(r'.', '', regex=True)\n",
    "# Replacing '.' to blank space for the 'car_mileage' column\n",
    "nissan_versa_df['car_mileage'] = nissan_versa_df['car_mileage'].str.replace(r'.', '', regex=True)\n",
    "# Replacing 'Km' to blank space for the 'car_mileage' column\n",
    "nissan_versa_df['car_mileage'] = nissan_versa_df['car_mileage'].str.replace(r'Km', '', regex=True)"
   ]
  },
  {
   "cell_type": "code",
   "execution_count": 22,
   "metadata": {},
   "outputs": [
    {
     "data": {
      "text/html": [
       "<div>\n",
       "<style scoped>\n",
       "    .dataframe tbody tr th:only-of-type {\n",
       "        vertical-align: middle;\n",
       "    }\n",
       "\n",
       "    .dataframe tbody tr th {\n",
       "        vertical-align: top;\n",
       "    }\n",
       "\n",
       "    .dataframe thead th {\n",
       "        text-align: right;\n",
       "    }\n",
       "</style>\n",
       "<table border=\"1\" class=\"dataframe\">\n",
       "  <thead>\n",
       "    <tr style=\"text-align: right;\">\n",
       "      <th></th>\n",
       "      <th>car_name</th>\n",
       "      <th>car_price</th>\n",
       "      <th>car_year</th>\n",
       "      <th>car_mileage</th>\n",
       "      <th>cars_location</th>\n",
       "      <th>car_image</th>\n",
       "      <th>car_url</th>\n",
       "    </tr>\n",
       "  </thead>\n",
       "  <tbody>\n",
       "    <tr>\n",
       "      <th>0</th>\n",
       "      <td>Nissan Versa 1.6 Advance</td>\n",
       "      <td>38500000</td>\n",
       "      <td>2014</td>\n",
       "      <td>50600</td>\n",
       "      <td>Suba - Bogotá D.C.</td>\n",
       "      <td>https://http2.mlstatic.com/D_NQ_NP_811731-MCO7...</td>\n",
       "      <td>https://carro.mercadolibre.com.co/MCO-13283906...</td>\n",
       "    </tr>\n",
       "    <tr>\n",
       "      <th>1</th>\n",
       "      <td>Nissan Versa Advance</td>\n",
       "      <td>35500000</td>\n",
       "      <td>2013</td>\n",
       "      <td>68382</td>\n",
       "      <td>Ciudad Bolívar - Bogotá D.C.</td>\n",
       "      <td>https://http2.mlstatic.com/D_NQ_NP_632620-MCO7...</td>\n",
       "      <td>https://carro.mercadolibre.com.co/MCO-17908525...</td>\n",
       "    </tr>\n",
       "    <tr>\n",
       "      <th>2</th>\n",
       "      <td>Nissan Versa 1.6 Advance</td>\n",
       "      <td>50000000</td>\n",
       "      <td>2018</td>\n",
       "      <td>54800</td>\n",
       "      <td>Fontibón - Bogotá D.C.</td>\n",
       "      <td>https://http2.mlstatic.com/D_NQ_NP_811068-MCO7...</td>\n",
       "      <td>https://carro.mercadolibre.com.co/MCO-13266745...</td>\n",
       "    </tr>\n",
       "    <tr>\n",
       "      <th>3</th>\n",
       "      <td>Nissan Versa 1.6 Drive</td>\n",
       "      <td>52000000</td>\n",
       "      <td>2019</td>\n",
       "      <td>46000</td>\n",
       "      <td>Suba - Bogotá D.C.</td>\n",
       "      <td>https://http2.mlstatic.com/D_NQ_NP_723510-MCO7...</td>\n",
       "      <td>https://carro.mercadolibre.com.co/MCO-13256340...</td>\n",
       "    </tr>\n",
       "    <tr>\n",
       "      <th>4</th>\n",
       "      <td>Nissan Versa 1.6 Exclusive</td>\n",
       "      <td>86000000</td>\n",
       "      <td>2022</td>\n",
       "      <td>5868</td>\n",
       "      <td>Barrios Unidos - Bogotá D.C.</td>\n",
       "      <td>https://http2.mlstatic.com/D_NQ_NP_938734-MCO7...</td>\n",
       "      <td>https://carro.mercadolibre.com.co/MCO-13252463...</td>\n",
       "    </tr>\n",
       "    <tr>\n",
       "      <th>...</th>\n",
       "      <td>...</td>\n",
       "      <td>...</td>\n",
       "      <td>...</td>\n",
       "      <td>...</td>\n",
       "      <td>...</td>\n",
       "      <td>...</td>\n",
       "      <td>...</td>\n",
       "    </tr>\n",
       "    <tr>\n",
       "      <th>424</th>\n",
       "      <td>Nissan Versa 1.6 Sense</td>\n",
       "      <td>40000000</td>\n",
       "      <td>2017</td>\n",
       "      <td>67000</td>\n",
       "      <td>Barranquilla - Atlántico</td>\n",
       "      <td>https://http2.mlstatic.com/D_NQ_NP_841964-MCO7...</td>\n",
       "      <td>https://carro.mercadolibre.com.co/MCO-17381616...</td>\n",
       "    </tr>\n",
       "    <tr>\n",
       "      <th>425</th>\n",
       "      <td>Nissan Versa Sense</td>\n",
       "      <td>42000000</td>\n",
       "      <td>2018</td>\n",
       "      <td>60000</td>\n",
       "      <td>Martires - Bogotá D.C.</td>\n",
       "      <td>https://http2.mlstatic.com/D_NQ_NP_722342-MCO7...</td>\n",
       "      <td>https://carro.mercadolibre.com.co/MCO-17825317...</td>\n",
       "    </tr>\n",
       "    <tr>\n",
       "      <th>426</th>\n",
       "      <td>Nissan Versa Versa Exclusive</td>\n",
       "      <td>78000000</td>\n",
       "      <td>2020</td>\n",
       "      <td>16500</td>\n",
       "      <td>Cali - Valle Del Cauca</td>\n",
       "      <td>https://http2.mlstatic.com/D_NQ_NP_745082-MCO7...</td>\n",
       "      <td>https://carro.mercadolibre.com.co/MCO-13207916...</td>\n",
       "    </tr>\n",
       "    <tr>\n",
       "      <th>427</th>\n",
       "      <td>Nissan Versa 1.6 Advance</td>\n",
       "      <td>35000000</td>\n",
       "      <td>2013</td>\n",
       "      <td>77200</td>\n",
       "      <td>Kennedy - Bogotá D.C.</td>\n",
       "      <td>https://http2.mlstatic.com/D_NQ_NP_608429-MCO6...</td>\n",
       "      <td>https://carro.mercadolibre.com.co/MCO-13189500...</td>\n",
       "    </tr>\n",
       "    <tr>\n",
       "      <th>428</th>\n",
       "      <td>Nissan Versa 1.6 Sense</td>\n",
       "      <td>58000000</td>\n",
       "      <td>2019</td>\n",
       "      <td>35308</td>\n",
       "      <td>Medellín - Antioquia</td>\n",
       "      <td>https://http2.mlstatic.com/D_NQ_NP_823895-MCO6...</td>\n",
       "      <td>https://carro.mercadolibre.com.co/MCO-17728191...</td>\n",
       "    </tr>\n",
       "  </tbody>\n",
       "</table>\n",
       "<p>429 rows × 7 columns</p>\n",
       "</div>"
      ],
      "text/plain": [
       "                         car_name car_price  car_year car_mileage  \\\n",
       "0        Nissan Versa 1.6 Advance  38500000      2014      50600    \n",
       "1            Nissan Versa Advance  35500000      2013      68382    \n",
       "2        Nissan Versa 1.6 Advance  50000000      2018      54800    \n",
       "3          Nissan Versa 1.6 Drive  52000000      2019      46000    \n",
       "4      Nissan Versa 1.6 Exclusive  86000000      2022       5868    \n",
       "..                            ...       ...       ...         ...   \n",
       "424        Nissan Versa 1.6 Sense  40000000      2017      67000    \n",
       "425            Nissan Versa Sense  42000000      2018      60000    \n",
       "426  Nissan Versa Versa Exclusive  78000000      2020      16500    \n",
       "427      Nissan Versa 1.6 Advance  35000000      2013      77200    \n",
       "428        Nissan Versa 1.6 Sense  58000000      2019      35308    \n",
       "\n",
       "                    cars_location  \\\n",
       "0              Suba - Bogotá D.C.   \n",
       "1    Ciudad Bolívar - Bogotá D.C.   \n",
       "2          Fontibón - Bogotá D.C.   \n",
       "3              Suba - Bogotá D.C.   \n",
       "4    Barrios Unidos - Bogotá D.C.   \n",
       "..                            ...   \n",
       "424      Barranquilla - Atlántico   \n",
       "425        Martires - Bogotá D.C.   \n",
       "426        Cali - Valle Del Cauca   \n",
       "427         Kennedy - Bogotá D.C.   \n",
       "428          Medellín - Antioquia   \n",
       "\n",
       "                                             car_image  \\\n",
       "0    https://http2.mlstatic.com/D_NQ_NP_811731-MCO7...   \n",
       "1    https://http2.mlstatic.com/D_NQ_NP_632620-MCO7...   \n",
       "2    https://http2.mlstatic.com/D_NQ_NP_811068-MCO7...   \n",
       "3    https://http2.mlstatic.com/D_NQ_NP_723510-MCO7...   \n",
       "4    https://http2.mlstatic.com/D_NQ_NP_938734-MCO7...   \n",
       "..                                                 ...   \n",
       "424  https://http2.mlstatic.com/D_NQ_NP_841964-MCO7...   \n",
       "425  https://http2.mlstatic.com/D_NQ_NP_722342-MCO7...   \n",
       "426  https://http2.mlstatic.com/D_NQ_NP_745082-MCO7...   \n",
       "427  https://http2.mlstatic.com/D_NQ_NP_608429-MCO6...   \n",
       "428  https://http2.mlstatic.com/D_NQ_NP_823895-MCO6...   \n",
       "\n",
       "                                               car_url  \n",
       "0    https://carro.mercadolibre.com.co/MCO-13283906...  \n",
       "1    https://carro.mercadolibre.com.co/MCO-17908525...  \n",
       "2    https://carro.mercadolibre.com.co/MCO-13266745...  \n",
       "3    https://carro.mercadolibre.com.co/MCO-13256340...  \n",
       "4    https://carro.mercadolibre.com.co/MCO-13252463...  \n",
       "..                                                 ...  \n",
       "424  https://carro.mercadolibre.com.co/MCO-17381616...  \n",
       "425  https://carro.mercadolibre.com.co/MCO-17825317...  \n",
       "426  https://carro.mercadolibre.com.co/MCO-13207916...  \n",
       "427  https://carro.mercadolibre.com.co/MCO-13189500...  \n",
       "428  https://carro.mercadolibre.com.co/MCO-17728191...  \n",
       "\n",
       "[429 rows x 7 columns]"
      ]
     },
     "execution_count": 22,
     "metadata": {},
     "output_type": "execute_result"
    }
   ],
   "source": [
    "nissan_versa_df"
   ]
  },
  {
   "cell_type": "markdown",
   "metadata": {},
   "source": [
    "Let's make both columns numeric."
   ]
  },
  {
   "cell_type": "code",
   "execution_count": 25,
   "metadata": {
    "scrolled": true
   },
   "outputs": [],
   "source": [
    "nissan_versa_df['car_price'] = pd.to_numeric(nissan_versa_df['car_price'])"
   ]
  },
  {
   "cell_type": "code",
   "execution_count": 26,
   "metadata": {},
   "outputs": [],
   "source": [
    "nissan_versa_df['car_mileage'] = pd.to_numeric(nissan_versa_df['car_mileage'])"
   ]
  },
  {
   "cell_type": "code",
   "execution_count": 27,
   "metadata": {
    "scrolled": true
   },
   "outputs": [
    {
     "data": {
      "text/html": [
       "<div>\n",
       "<style scoped>\n",
       "    .dataframe tbody tr th:only-of-type {\n",
       "        vertical-align: middle;\n",
       "    }\n",
       "\n",
       "    .dataframe tbody tr th {\n",
       "        vertical-align: top;\n",
       "    }\n",
       "\n",
       "    .dataframe thead th {\n",
       "        text-align: right;\n",
       "    }\n",
       "</style>\n",
       "<table border=\"1\" class=\"dataframe\">\n",
       "  <thead>\n",
       "    <tr style=\"text-align: right;\">\n",
       "      <th></th>\n",
       "      <th>car_price</th>\n",
       "      <th>car_year</th>\n",
       "      <th>car_mileage</th>\n",
       "    </tr>\n",
       "  </thead>\n",
       "  <tbody>\n",
       "    <tr>\n",
       "      <th>count</th>\n",
       "      <td>4.290000e+02</td>\n",
       "      <td>429.000000</td>\n",
       "      <td>429.000000</td>\n",
       "    </tr>\n",
       "    <tr>\n",
       "      <th>mean</th>\n",
       "      <td>5.424319e+07</td>\n",
       "      <td>2018.174825</td>\n",
       "      <td>55912.361305</td>\n",
       "    </tr>\n",
       "    <tr>\n",
       "      <th>std</th>\n",
       "      <td>1.644226e+07</td>\n",
       "      <td>3.276897</td>\n",
       "      <td>36680.375852</td>\n",
       "    </tr>\n",
       "    <tr>\n",
       "      <th>min</th>\n",
       "      <td>2.290000e+07</td>\n",
       "      <td>2005.000000</td>\n",
       "      <td>120.000000</td>\n",
       "    </tr>\n",
       "    <tr>\n",
       "      <th>25%</th>\n",
       "      <td>4.130000e+07</td>\n",
       "      <td>2015.000000</td>\n",
       "      <td>29000.000000</td>\n",
       "    </tr>\n",
       "    <tr>\n",
       "      <th>50%</th>\n",
       "      <td>4.999000e+07</td>\n",
       "      <td>2019.000000</td>\n",
       "      <td>50000.000000</td>\n",
       "    </tr>\n",
       "    <tr>\n",
       "      <th>75%</th>\n",
       "      <td>6.800000e+07</td>\n",
       "      <td>2021.000000</td>\n",
       "      <td>77800.000000</td>\n",
       "    </tr>\n",
       "    <tr>\n",
       "      <th>max</th>\n",
       "      <td>1.050000e+08</td>\n",
       "      <td>2024.000000</td>\n",
       "      <td>218000.000000</td>\n",
       "    </tr>\n",
       "  </tbody>\n",
       "</table>\n",
       "</div>"
      ],
      "text/plain": [
       "          car_price     car_year    car_mileage\n",
       "count  4.290000e+02   429.000000     429.000000\n",
       "mean   5.424319e+07  2018.174825   55912.361305\n",
       "std    1.644226e+07     3.276897   36680.375852\n",
       "min    2.290000e+07  2005.000000     120.000000\n",
       "25%    4.130000e+07  2015.000000   29000.000000\n",
       "50%    4.999000e+07  2019.000000   50000.000000\n",
       "75%    6.800000e+07  2021.000000   77800.000000\n",
       "max    1.050000e+08  2024.000000  218000.000000"
      ]
     },
     "execution_count": 27,
     "metadata": {},
     "output_type": "execute_result"
    }
   ],
   "source": [
    "#Let's see the numeric columns statistics\n",
    "nissan_versa_df.describe()"
   ]
  },
  {
   "cell_type": "code",
   "execution_count": 28,
   "metadata": {},
   "outputs": [
    {
     "data": {
      "text/plain": [
       "92"
      ]
     },
     "execution_count": 28,
     "metadata": {},
     "output_type": "execute_result"
    }
   ],
   "source": [
    "nissan_versa_df['cars_location'].value_counts().count()"
   ]
  },
  {
   "cell_type": "markdown",
   "metadata": {},
   "source": [
    "From the 'cars_location' we are getting too many unique values from places that are the same. So, we are going to modify that."
   ]
  },
  {
   "cell_type": "code",
   "execution_count": 29,
   "metadata": {},
   "outputs": [],
   "source": [
    "# We locate every row that contains the name of the city\n",
    "bogota_location = nissan_versa_df['cars_location'].str.contains('bogot', case=False)\n",
    "cali_location =  nissan_versa_df['cars_location'].str.contains('cali', case=False)\n",
    "barranquilla_location = nissan_versa_df['cars_location'].str.contains('barranquilla', case=False)\n",
    "medellin_location = nissan_versa_df['cars_location'].str.contains('medell', case=False)\n",
    "cundinamarca_location = nissan_versa_df['cars_location'].str.contains('cundinam', case=False)\n",
    "pereira_location = nissan_versa_df['cars_location'].str.contains('pereira', case=False)\n",
    "cartagena_location = nissan_versa_df['cars_location'].str.contains('cartagena', case=False)\n",
    "cucuta_location = nissan_versa_df['cars_location'].str.contains('cúcuta', case=False)\n",
    "boyaca_location = nissan_versa_df['cars_location'].str.contains('boyaca', case=False)\n",
    "bucaramanga_location = nissan_versa_df['cars_location'].str.contains('bucaramanga', case=False)"
   ]
  },
  {
   "cell_type": "code",
   "execution_count": 30,
   "metadata": {},
   "outputs": [],
   "source": [
    "# We replace those rows with standardize names for every city\n",
    "nissan_versa_df.at[bogota_location, 'cars_location'] = 'Bogota D.C.'\n",
    "nissan_versa_df.at[cali_location, 'cars_location'] = 'Cali'\n",
    "nissan_versa_df.at[barranquilla_location, 'cars_location'] = 'Barranquilla'\n",
    "nissan_versa_df.at[medellin_location, 'cars_location'] = 'Medellin'\n",
    "nissan_versa_df.at[cundinamarca_location, 'cars_location'] = 'Cundinamarca'\n",
    "nissan_versa_df.at[pereira_location, 'cars_location'] = 'Pereira'\n",
    "nissan_versa_df.at[cartagena_location, 'cars_location'] = 'Cartagena'\n",
    "nissan_versa_df.at[cucuta_location, 'cars_location'] = 'Cucuta'\n",
    "nissan_versa_df.at[boyaca_location, 'cars_location'] = 'Boyaca'\n",
    "nissan_versa_df.at[bucaramanga_location, 'cars_location'] = 'Bucaramanga'"
   ]
  },
  {
   "cell_type": "code",
   "execution_count": 31,
   "metadata": {},
   "outputs": [],
   "source": [
    "# To avoid combining antioquia rows with medellin rows we execute this code separately\n",
    "antioquia_location = nissan_versa_df['cars_location'].str.contains('antioquia', case=False)\n",
    "nissan_versa_df.at[antioquia_location, 'cars_location'] = 'Antioquia'"
   ]
  },
  {
   "cell_type": "code",
   "execution_count": 32,
   "metadata": {
    "scrolled": true
   },
   "outputs": [
    {
     "data": {
      "text/plain": [
       "28"
      ]
     },
     "execution_count": 32,
     "metadata": {},
     "output_type": "execute_result"
    }
   ],
   "source": [
    "nissan_versa_df['cars_location'].value_counts().count()"
   ]
  },
  {
   "cell_type": "code",
   "execution_count": 33,
   "metadata": {
    "scrolled": false
   },
   "outputs": [
    {
     "data": {
      "text/plain": [
       "Bogota D.C.     188\n",
       "Cali             55\n",
       "Barranquilla     44\n",
       "Medellin         43\n",
       "Antioquia        23\n",
       "Cundinamarca     19\n",
       "Bucaramanga       9\n",
       "Cucuta            8\n",
       "Cartagena         7\n",
       "Pereira           6\n",
       "Name: cars_location, dtype: int64"
      ]
     },
     "execution_count": 33,
     "metadata": {},
     "output_type": "execute_result"
    }
   ],
   "source": [
    "#Let's see top 10 cities with more cars\n",
    "nissan_versa_df['cars_location'].value_counts().head(10)"
   ]
  },
  {
   "cell_type": "markdown",
   "metadata": {},
   "source": [
    "Now that we cleaned our data, is time to analyze it."
   ]
  },
  {
   "cell_type": "markdown",
   "metadata": {},
   "source": [
    "### Analyzing data\n",
    "Now is time to analyze the data and see how is the vehicular market behaving. We are going to compare the prices that are on the market with a particular vehicle that we want to put up for sale and see what would it be a fair price to sell the vehicle. The description of the vehicle is the following one: Nissan Versa Sense 1.6 2016 with 110000 km of mileage. Also we are going to set a initial guess price for the vehicle that sits around 35 to 40 millions colombian pesos (COP) and see if this price would be fair or not compared to what the data tell us."
   ]
  },
  {
   "cell_type": "code",
   "execution_count": 34,
   "metadata": {},
   "outputs": [],
   "source": [
    "!pip install pandas-profiling numpy matplotlib seaborn --quiet"
   ]
  },
  {
   "cell_type": "code",
   "execution_count": 35,
   "metadata": {},
   "outputs": [],
   "source": [
    "!pip install plotly.express --quiet"
   ]
  },
  {
   "cell_type": "code",
   "execution_count": 36,
   "metadata": {},
   "outputs": [],
   "source": [
    "import seaborn as sns\n",
    "import numpy as np\n",
    "\n",
    "import plotly.express as px\n",
    "from sklearn.model_selection import train_test_split\n",
    "import matplotlib.pyplot as plt\n",
    "import matplotlib\n",
    "%matplotlib inline\n",
    "import matplotlib.ticker as ticker\n",
    "\n",
    "pd.set_option('display.max_columns', None)\n",
    "pd.set_option('display.max_rows', 150)\n",
    "sns.set_style('darkgrid')\n",
    "\n",
    "matplotlib.rcParams['figure.figsize'] = (15, 5)\n",
    "matplotlib.rcParams['figure.facecolor'] = '#00000000'"
   ]
  },
  {
   "cell_type": "markdown",
   "metadata": {},
   "source": [
    "First, we will look at how many cars are for sale for their respective year. In particular we are going to look how many are for sale for 2016 models."
   ]
  },
  {
   "cell_type": "code",
   "execution_count": 37,
   "metadata": {
    "scrolled": true
   },
   "outputs": [
    {
     "data": {
      "image/png": "[encoded data removed]",
      "text/plain": [
       "<Figure size 1080x360 with 1 Axes>"
      ]
     },
     "metadata": {
      "needs_background": "light"
     },
     "output_type": "display_data"
    },
    {
     "name": "stdout",
     "output_type": "stream",
     "text": [
      "There are 28 cars for sale for 2016 and represent the 6.53% of the total of cars.\n"
     ]
    }
   ],
   "source": [
    "# We cast our 'car_year' column to string\n",
    "nissan_versa_df['car_year'] = nissan_versa_df['car_year'].astype(str)\n",
    "# We group our data by year\n",
    "year_group = nissan_versa_df.groupby('car_year')['car_name'].count()\n",
    "# We plot the data pointing out the 2016 bar\n",
    "bin_colors = ['#949fa8']\n",
    "patches = plt.bar(year_group.index, year_group, color=bin_colors, edgecolor='black')\n",
    "patches[5].set_fc(\"blue\")\n",
    "\n",
    "plt.title('Distribution of cars by year')\n",
    "plt.xlabel('Year')\n",
    "plt.ylabel('Frequency')\n",
    "cars_2016 = year_group[year_group.index == '2016'].sum()\n",
    "percentage_2016 = round((cars_2016/nissan_versa_df['car_year'].count())*100,2)\n",
    "\n",
    "plt.show()\n",
    "print('There are {} cars for sale for 2016 and represent the {}% of the total of cars.'.format(cars_2016, percentage_2016))"
   ]
  },
  {
   "cell_type": "markdown",
   "metadata": {},
   "source": [
    "Now, we are going to plot a histogram to see the cars mileage distribution. In particular we are going to look for cars in the 100k to 110k range."
   ]
  },
  {
   "cell_type": "code",
   "execution_count": 38,
   "metadata": {
    "scrolled": true
   },
   "outputs": [
    {
     "data": {
      "image/png": "[encoded data removed]",
      "text/plain": [
       "<Figure size 1080x360 with 1 Axes>"
      ]
     },
     "metadata": {
      "needs_background": "light"
     },
     "output_type": "display_data"
    },
    {
     "name": "stdout",
     "output_type": "stream",
     "text": [
      "There are 20 cars for sale for mileage between 100000 and 110000 kilometers and represents the 4.66% of the total of cars\n"
     ]
    }
   ],
   "source": [
    "# Creating a histogram for the car mileage distribution but highlighting cars in the 100k to 110k range.\n",
    "car_mileage = nissan_versa_df['car_mileage']\n",
    "bin_range = list(range(0, 140000, 10000))\n",
    "\n",
    "bin_colors = ['#949fa8']\n",
    "\n",
    "n, bins, patches = plt.hist(car_mileage, bins=bin_range, color=bin_colors, edgecolor='black')\n",
    "patches[10].set_fc(\"blue\")\n",
    "\n",
    "plt.xlabel('Mileage')\n",
    "plt.ylabel('Frequency')\n",
    "plt.title('Car mileage distribution')\n",
    "mileage_filter = car_mileage[(car_mileage > 99999) & (car_mileage < 110001)].count()\n",
    "percentage_mileage = round(mileage_filter/car_mileage.count()*100,2)\n",
    "\n",
    "plt.show()\n",
    "print('There are {} cars for sale for mileage between 100000 and 110000 kilometers and represents the {}% of the total of cars'.format(mileage_filter, percentage_mileage))"
   ]
  },
  {
   "cell_type": "markdown",
   "metadata": {},
   "source": [
    "Now we are going to make a histogram to see the distribution of car prices that are for sale. Particularly we are going to point out cars with values around 35 and 40 millions COP."
   ]
  },
  {
   "cell_type": "code",
   "execution_count": 39,
   "metadata": {},
   "outputs": [
    {
     "data": {
      "image/png": "[encoded data removed]",
      "text/plain": [
       "<Figure size 1080x360 with 1 Axes>"
      ]
     },
     "metadata": {
      "needs_background": "light"
     },
     "output_type": "display_data"
    },
    {
     "name": "stdout",
     "output_type": "stream",
     "text": [
      "There are 69 cars with prices between 35 and 40 millions and represents the 16.08% of the total of cars.\n"
     ]
    }
   ],
   "source": [
    "# Plotting a histogram for the car prices\n",
    "car_price = nissan_versa_df['car_price']\n",
    "bin_range = list(range(30000000, 100000000, 5000000))\n",
    "bin_colors = ['#949fa8']\n",
    "\n",
    "fig, ax = plt.subplots()\n",
    "\n",
    "# Create a histogram\n",
    "n, bins, patches = ax.hist(car_price, bin_range, color=bin_colors ,edgecolor='black')\n",
    "patches[1].set_fc(\"blue\")\n",
    "\n",
    "# Define a custom formatting function\n",
    "def millions_formatter(x, pos):\n",
    "    return f'{x / 1e6:.0f}M'\n",
    "\n",
    "# Create a FuncFormatter object\n",
    "formatter = ticker.FuncFormatter(millions_formatter)\n",
    "\n",
    "# Apply the formatter to the x-axis tick labels\n",
    "ax.xaxis.set_major_formatter(formatter)\n",
    "\n",
    "ax.set_xlabel('Car prices (Millions)')\n",
    "ax.set_ylabel('Frequency')\n",
    "ax.set_title('Car prices distribution')\n",
    "car_price_filter = car_price[(car_price > 34999999) & (car_price < 40000001)].count()\n",
    "percentage_price = round(car_price_filter/car_price.count()*100,2)\n",
    "\n",
    "plt.show()\n",
    "print('There are {} cars with prices between 35 and 40 millions and represents the {}% of the total of cars.'.format(car_price_filter, percentage_price))"
   ]
  },
  {
   "cell_type": "markdown",
   "metadata": {},
   "source": [
    "Now, let's see how many cars are for each city. In particular we are going to point out cars from Barranquilla."
   ]
  },
  {
   "cell_type": "code",
   "execution_count": 50,
   "metadata": {},
   "outputs": [
    {
     "data": {
      "image/png": "[encoded data removed]",
      "text/plain": [
       "<Figure size 1080x360 with 1 Axes>"
      ]
     },
     "metadata": {
      "needs_background": "light"
     },
     "output_type": "display_data"
    },
    {
     "name": "stdout",
     "output_type": "stream",
     "text": [
      "There are 44 cars in the city of Barranquilla and represents the 10.26% of the total of cars\n"
     ]
    }
   ],
   "source": [
    "# Create the dataframe grouping by cities, only top 10 cities\n",
    "cities_df = nissan_versa_df.groupby('cars_location')['car_name'].count().sort_values(ascending = False).head(10)\n",
    "# Create the visualization pointing out 'Barranquilla'\n",
    "bin_colors = ['#949fa8']\n",
    "patches = plt.bar(cities_df.index, cities_df, color= bin_colors, edgecolor='black')\n",
    "patches[2].set_fc(\"blue\")\n",
    "\n",
    "plt.title('Amount of cars by city')\n",
    "plt.xlabel('Cities')\n",
    "plt.ylabel('Count')\n",
    "cars_barranquilla = cities_df[cities_df.index == 'Barranquilla'].sum()\n",
    "percentage_city = round(cars_barranquilla/nissan_versa_df['cars_location'].count()*100,2)\n",
    "\n",
    "plt.show()\n",
    "print('There are {} cars in the city of Barranquilla and represents the {}% of the total of cars'.format(cars_barranquilla, percentage_city))"
   ]
  },
  {
   "cell_type": "markdown",
   "metadata": {},
   "source": [
    "Now, we are going to create a new column to classify the cars by their type. Then we create a visualization to see how many 'Sense' cars are for sale in the market."
   ]
  },
  {
   "cell_type": "code",
   "execution_count": 41,
   "metadata": {},
   "outputs": [],
   "source": [
    "nissan_versa_df['car_type'] = nissan_versa_df.apply(lambda row: 'Sense' if 'sense' in row['car_name'].lower() \n",
    "                                                           else ('Drive' if 'drive' in row['car_name'].lower()\n",
    "                                                                 else ('Advance' if 'advance' in row['car_name'].lower()\n",
    "                                                                       else ('Exclusive' if 'exclusive' in row['car_name'].lower()\n",
    "                                                                           else 'Other'))), axis=1)"
   ]
  },
  {
   "cell_type": "code",
   "execution_count": 42,
   "metadata": {
    "scrolled": true
   },
   "outputs": [
    {
     "data": {
      "image/png": "[encoded data removed]",
      "text/plain": [
       "<Figure size 1080x360 with 1 Axes>"
      ]
     },
     "metadata": {
      "needs_background": "light"
     },
     "output_type": "display_data"
    },
    {
     "name": "stdout",
     "output_type": "stream",
     "text": [
      "There are 95 cars for the \"Sense\" version and represents the 22.14% of the total of cars\n"
     ]
    }
   ],
   "source": [
    "# Create the dataframe grouping by car type\n",
    "car_type_group = nissan_versa_df.groupby('car_type')['car_name'].count().sort_values(ascending = False)\n",
    "# Create the visualization\n",
    "bin_colors = ['#949fa8']\n",
    "patches = plt.bar(car_type_group.index, car_type_group, color= bin_colors, edgecolor='black')\n",
    "patches[1].set_fc(\"blue\")\n",
    "\n",
    "plt.title('Amount of cars by car type')\n",
    "plt.xlabel('Car type')\n",
    "car_type_sense = car_type_group[car_type_group.index == 'Sense'].sum()\n",
    "percentage_type = round(car_type_sense/nissan_versa_df['car_type'].count()*100,2)\n",
    "\n",
    "plt.show()\n",
    "print('There are {} cars for the \"Sense\" version and represents the {}% of the total of cars'.format(car_type_sense, percentage_type))"
   ]
  },
  {
   "cell_type": "markdown",
   "metadata": {},
   "source": [
    "Now, we are going to create a scatterplot to see the relationship between the car price and the car mileage. We are going to put special markers for the 2016 versions."
   ]
  },
  {
   "cell_type": "code",
   "execution_count": 43,
   "metadata": {
    "scrolled": false
   },
   "outputs": [
    {
     "data": {
      "image/png": "[encoded data removed]",
      "text/plain": [
       "<Figure size 1080x360 with 1 Axes>"
      ]
     },
     "metadata": {
      "needs_background": "light"
     },
     "output_type": "display_data"
    }
   ],
   "source": [
    "# Scatterplot for the relationship between car price and mileage\n",
    "marker_sizes = {\n",
    "    \"2005\": 30, \"2012\": 30, \"2013\": 30, \"2014\": 30, \"2015\": 30,\n",
    "    \"2016\": 60,\n",
    "    \"2017\": 30, \"2018\": 30, \"2019\": 30, \"2020\": 30,\n",
    "    \"2021\": 30, \"2022\": 30, \"2023\": 30, \"2024\": 30\n",
    "}\n",
    "markers = {\n",
    "    \"2005\": \"X\", \"2012\": \"X\", \"2013\": \"X\", \"2014\": \"X\", \"2015\": \"X\",\n",
    "    \"2016\": \"s\", \"2017\": \"X\", \"2018\": \"X\", \"2019\": \"X\", \"2020\": \"X\",\n",
    "    \"2021\": \"X\", \"2022\": \"X\", \"2023\": \"X\", \"2024\": \"X\"\n",
    "}\n",
    "\n",
    "fig, ax = plt.subplots()\n",
    "\n",
    "sns.scatterplot(x=nissan_versa_df.car_mileage, \n",
    "                y=nissan_versa_df.car_price, \n",
    "                style=nissan_versa_df.car_year, \n",
    "                markers=markers, \n",
    "                s=nissan_versa_df.car_year.map(marker_sizes))\n",
    "\n",
    "# Apply the formatter to the y-axis tick labels\n",
    "ax.yaxis.set_major_formatter(formatter)\n",
    "\n",
    "plt.xlabel('Car Mileage')\n",
    "plt.ylabel('Car Price')\n",
    "plt.title('Car Mileage vs. Car Price')\n",
    "plt.legend(title='Car Year')\n",
    "plt.grid(True)\n",
    "plt.show()"
   ]
  },
  {
   "cell_type": "markdown",
   "metadata": {},
   "source": [
    "We can see from the scatter plot above is that the relationship between mileage and price is inversely proportional. The 2016 version follows this trend but with a less steep slope."
   ]
  },
  {
   "cell_type": "markdown",
   "metadata": {},
   "source": [
    "Finally we are going to analyze the 2016 version and check how many are available on the market."
   ]
  },
  {
   "cell_type": "code",
   "execution_count": 44,
   "metadata": {
    "scrolled": false
   },
   "outputs": [],
   "source": [
    "versa_2016 = nissan_versa_df[nissan_versa_df['car_year'] == '2016']"
   ]
  },
  {
   "cell_type": "code",
   "execution_count": 45,
   "metadata": {},
   "outputs": [
    {
     "data": {
      "image/png": "[encoded data removed]",
      "text/plain": [
       "<Figure size 1080x360 with 1 Axes>"
      ]
     },
     "metadata": {
      "needs_background": "light"
     },
     "output_type": "display_data"
    }
   ],
   "source": [
    "# Create a histogram for car prices for nissan versa 2016 version\n",
    "price_versa_2016 = versa_2016['car_price']\n",
    "bin_range = list(range(36000000, 50000000, 2000000))\n",
    "\n",
    "bin_colors = ['#949fa8']\n",
    "\n",
    "fig, ax = plt.subplots()\n",
    "\n",
    "n, bins, patches = plt.hist(price_versa_2016, bin_range, color=bin_colors, edgecolor='black')\n",
    "patches[0].set_fc(\"blue\")\n",
    "patches[1].set_fc(\"blue\")\n",
    "\n",
    "# Apply the formatter to the x-axis tick labels\n",
    "ax.xaxis.set_major_formatter(formatter)\n",
    "\n",
    "plt.xlabel('Mileage')\n",
    "plt.title('Nissan Versa 2016 car price distribution')\n",
    "\n",
    "plt.show()"
   ]
  },
  {
   "cell_type": "markdown",
   "metadata": {},
   "source": [
    "There are 7 nissan versa 2016 cars in the price range of 36M to 40M. Also it is important to point out that cars in the range of 40M to 42M and 44M to 46M are more frequent."
   ]
  },
  {
   "cell_type": "code",
   "execution_count": 46,
   "metadata": {},
   "outputs": [
    {
     "data": {
      "image/png": "[encoded data removed]",
      "text/plain": [
       "<Figure size 1080x360 with 1 Axes>"
      ]
     },
     "metadata": {
      "needs_background": "light"
     },
     "output_type": "display_data"
    }
   ],
   "source": [
    "# Create a histogram for car prices for nissan versa 2016 version\n",
    "mileage_versa_2016 = versa_2016['car_mileage']\n",
    "bin_range = list(range(20000, 140000, 20000))\n",
    "\n",
    "bin_colors = ['#949fa8']\n",
    "\n",
    "n, bins, patches = plt.hist(mileage_versa_2016, bin_range, color=bin_colors, edgecolor='black')\n",
    "patches[4].set_fc(\"blue\")\n",
    "\n",
    "plt.xlabel('Mileage')\n",
    "plt.ylabel('Frequency')\n",
    "plt.title('Nissan Versa 2016 car price distribution')\n",
    "\n",
    "plt.show()"
   ]
  },
  {
   "cell_type": "markdown",
   "metadata": {},
   "source": [
    "There are 5 nissan versa 2016 in the mileage range of 100k to 120k km. Also we can see that cars with 40k to 60k and 60k to 80k of mileage are more frequent. Now let's see how many Nissan Versa model Sense 2016 are in the market."
   ]
  },
  {
   "cell_type": "code",
   "execution_count": 47,
   "metadata": {},
   "outputs": [],
   "source": [
    "# Show all the width\n",
    "pd.set_option('display.max_colwidth', None)"
   ]
  },
  {
   "cell_type": "code",
   "execution_count": 48,
   "metadata": {
    "scrolled": false
   },
   "outputs": [
    {
     "data": {
      "text/html": [
       "<div>\n",
       "<style scoped>\n",
       "    .dataframe tbody tr th:only-of-type {\n",
       "        vertical-align: middle;\n",
       "    }\n",
       "\n",
       "    .dataframe tbody tr th {\n",
       "        vertical-align: top;\n",
       "    }\n",
       "\n",
       "    .dataframe thead th {\n",
       "        text-align: right;\n",
       "    }\n",
       "</style>\n",
       "<table border=\"1\" class=\"dataframe\">\n",
       "  <thead>\n",
       "    <tr style=\"text-align: right;\">\n",
       "      <th></th>\n",
       "      <th>car_name</th>\n",
       "      <th>car_price</th>\n",
       "      <th>car_year</th>\n",
       "      <th>car_mileage</th>\n",
       "      <th>cars_location</th>\n",
       "      <th>car_image</th>\n",
       "      <th>car_url</th>\n",
       "      <th>car_type</th>\n",
       "    </tr>\n",
       "  </thead>\n",
       "  <tbody>\n",
       "    <tr>\n",
       "      <th>249</th>\n",
       "      <td>Nissan Versa 1.6 Sense</td>\n",
       "      <td>37000000</td>\n",
       "      <td>2016</td>\n",
       "      <td>119000</td>\n",
       "      <td>Barranquilla</td>\n",
       "      <td>https://http2.mlstatic.com/D_NQ_NP_719306-MCO70326221132_072023-W.jpg</td>\n",
       "      <td>https://carro.mercadolibre.com.co/MCO-1311892465-nissan-versa-sense-_JM#position=12&amp;search_layout=grid&amp;type=item&amp;tracking_id=83e43214-a8b1-47bf-816c-f355517a7b03</td>\n",
       "      <td>Sense</td>\n",
       "    </tr>\n",
       "    <tr>\n",
       "      <th>283</th>\n",
       "      <td>Nissan Versa 1.6 Sense</td>\n",
       "      <td>37500000</td>\n",
       "      <td>2016</td>\n",
       "      <td>102000</td>\n",
       "      <td>Bogota D.C.</td>\n",
       "      <td>https://http2.mlstatic.com/D_NQ_NP_821731-MCO71003725990_082023-W.jpg</td>\n",
       "      <td>https://carro.mercadolibre.com.co/MCO-1325281145-nissan-versa-2016-16-sense-_JM#position=47&amp;search_layout=grid&amp;type=item&amp;tracking_id=83e43214-a8b1-47bf-816c-f355517a7b03</td>\n",
       "      <td>Sense</td>\n",
       "    </tr>\n",
       "    <tr>\n",
       "      <th>301</th>\n",
       "      <td>Nissan Versa 1.6 Sense</td>\n",
       "      <td>43800000</td>\n",
       "      <td>2016</td>\n",
       "      <td>117340</td>\n",
       "      <td>Pereira</td>\n",
       "      <td>https://http2.mlstatic.com/D_NQ_NP_826461-MCO71123710667_082023-W.jpg</td>\n",
       "      <td>https://carro.mercadolibre.com.co/MCO-1327008655-nissan-versa-2016-16-sense-_JM#position=17&amp;search_layout=grid&amp;type=item&amp;tracking_id=bff38614-39fd-4658-9305-fb1c85573601</td>\n",
       "      <td>Sense</td>\n",
       "    </tr>\n",
       "    <tr>\n",
       "      <th>406</th>\n",
       "      <td>Nissan Versa 1.6 Sense</td>\n",
       "      <td>38000000</td>\n",
       "      <td>2016</td>\n",
       "      <td>181000</td>\n",
       "      <td>Antioquia</td>\n",
       "      <td>https://http2.mlstatic.com/D_NQ_NP_709134-MCO70175985685_062023-W.jpg</td>\n",
       "      <td>https://carro.mercadolibre.com.co/MCO-1743017930-nissan-versa-2016-16-sense-_JM#position=26&amp;search_layout=grid&amp;type=item&amp;tracking_id=869a1c15-fd59-402f-90b4-2407e628da29</td>\n",
       "      <td>Sense</td>\n",
       "    </tr>\n",
       "  </tbody>\n",
       "</table>\n",
       "</div>"
      ],
      "text/plain": [
       "                   car_name  car_price car_year  car_mileage cars_location  \\\n",
       "249  Nissan Versa 1.6 Sense   37000000     2016       119000  Barranquilla   \n",
       "283  Nissan Versa 1.6 Sense   37500000     2016       102000   Bogota D.C.   \n",
       "301  Nissan Versa 1.6 Sense   43800000     2016       117340       Pereira   \n",
       "406  Nissan Versa 1.6 Sense   38000000     2016       181000     Antioquia   \n",
       "\n",
       "                                                                 car_image  \\\n",
       "249  https://http2.mlstatic.com/D_NQ_NP_719306-MCO70326221132_072023-W.jpg   \n",
       "283  https://http2.mlstatic.com/D_NQ_NP_821731-MCO71003725990_082023-W.jpg   \n",
       "301  https://http2.mlstatic.com/D_NQ_NP_826461-MCO71123710667_082023-W.jpg   \n",
       "406  https://http2.mlstatic.com/D_NQ_NP_709134-MCO70175985685_062023-W.jpg   \n",
       "\n",
       "                                                                                                                                                                       car_url  \\\n",
       "249          https://carro.mercadolibre.com.co/MCO-1311892465-nissan-versa-sense-_JM#position=12&search_layout=grid&type=item&tracking_id=83e43214-a8b1-47bf-816c-f355517a7b03   \n",
       "283  https://carro.mercadolibre.com.co/MCO-1325281145-nissan-versa-2016-16-sense-_JM#position=47&search_layout=grid&type=item&tracking_id=83e43214-a8b1-47bf-816c-f355517a7b03   \n",
       "301  https://carro.mercadolibre.com.co/MCO-1327008655-nissan-versa-2016-16-sense-_JM#position=17&search_layout=grid&type=item&tracking_id=bff38614-39fd-4658-9305-fb1c85573601   \n",
       "406  https://carro.mercadolibre.com.co/MCO-1743017930-nissan-versa-2016-16-sense-_JM#position=26&search_layout=grid&type=item&tracking_id=869a1c15-fd59-402f-90b4-2407e628da29   \n",
       "\n",
       "    car_type  \n",
       "249    Sense  \n",
       "283    Sense  \n",
       "301    Sense  \n",
       "406    Sense  "
      ]
     },
     "execution_count": 48,
     "metadata": {},
     "output_type": "execute_result"
    }
   ],
   "source": [
    "nissan_sense_2016 = versa_2016[(versa_2016['car_mileage'] > 100000) & (versa_2016['car_type'] == 'Sense')]\n",
    "nissan_sense_2016"
   ]
  },
  {
   "cell_type": "code",
   "execution_count": 49,
   "metadata": {},
   "outputs": [
    {
     "name": "stdout",
     "output_type": "stream",
     "text": [
      "The average price for the nissan versa sense 2016 is 39075000.0\n"
     ]
    }
   ],
   "source": [
    "avg_2016_price = nissan_sense_2016['car_price'].mean()\n",
    "print('The average price for the nissan versa sense 2016 is {}'.format(avg_2016_price))"
   ]
  },
  {
   "cell_type": "markdown",
   "metadata": {},
   "source": [
    "### Conclusions\n",
    "* After reviewing the data we can see that the estimated price that we set for our vehicle at the beginning is fair and it is located in the 35M to 40M range that we previously set.\n",
    "* Cars from 2016 do not represent the majority of the market but they still have several copies on the market.\n",
    "* The car's market or at least nissan versa market is concentrated in the city of Bogotá but Barranquilla is still a solid place.\n",
    "* The 'Sense' model does not represent the majority of the market but still have a pretty solid percentage of the total cars for sale.\n",
    "* Cars with more than 100000 km of mileage are less present on the market and maybe it would be an inconvenient when we put our car for sale.\n"
   ]
  },
  {
   "cell_type": "markdown",
   "metadata": {},
   "source": [
    "### References\n",
    "[1] https://jovian.com/aakashns/python-web-scraping-and-rest-api\n",
    "\n",
    "[2] https://www.crummy.com/software/BeautifulSoup/bs4/doc/\n",
    "\n",
    "[3] https://requests.readthedocs.io/en/latest/\n",
    "\n",
    "[4] https://listado.mercadolibre.com.co/nissan-versa#D[A:nissan%20versa]"
   ]
  }
 ],
 "metadata": {
  "language_info": {
   "codemirror_mode": {
    "name": "ipython",
    "version": 3
   },
   "file_extension": ".py",
   "mimetype": "text/x-python",
   "name": "python",
   "nbconvert_exporter": "python",
   "pygments_lexer": "ipython3",
   "version": "3.9.7"
  }
 },
 "nbformat": 4,
 "nbformat_minor": 2
}